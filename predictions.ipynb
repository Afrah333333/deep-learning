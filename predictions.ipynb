{
  "nbformat": 4,
  "nbformat_minor": 0,
  "metadata": {
    "colab": {
      "provenance": [],
      "gpuType": "T4",
      "authorship_tag": "ABX9TyOUSXrLq9JBwjNSVVYg/ZVl",
      "include_colab_link": true
    },
    "kernelspec": {
      "name": "python3",
      "display_name": "Python 3"
    },
    "language_info": {
      "name": "python"
    },
    "accelerator": "GPU"
  },
  "cells": [
    {
      "cell_type": "markdown",
      "metadata": {
        "id": "view-in-github",
        "colab_type": "text"
      },
      "source": [
        "<a href=\"https://colab.research.google.com/github/Afrah333333/deep-learning/blob/main/predictions.ipynb\" target=\"_parent\"><img src=\"https://colab.research.google.com/assets/colab-badge.svg\" alt=\"Open In Colab\"/></a>"
      ]
    },
    {
      "cell_type": "code",
      "source": [
        "\"\"\"\n",
        "Utility functions to make predictions.\n",
        "\n",
        "Main reference for code creation: https://www.learnpytorch.io/06_pytorch_transfer_learning/#6-make-predictions-on-images-from-the-test-set\n",
        "\"\"\"\n",
        "import torch\n",
        "import torchvision\n",
        "from torchvision import transforms\n",
        "import matplotlib.pyplot as plt\n",
        "\n",
        "from typing import List, Tuple\n",
        "\n",
        "from PIL import Image\n",
        "\n",
        "# Set device\n",
        "device = \"cuda\" if torch.cuda.is_available() else \"cpu\"\n",
        "\n",
        "# Predict on a target image with a target model\n",
        "# Function created in: https://www.learnpytorch.io/06_pytorch_transfer_learning/#6-make-predictions-on-images-from-the-test-set\n",
        "def pred_and_plot_image(\n",
        "    model: torch.nn.Module,\n",
        "    class_names: List[str],\n",
        "    image_path: str,\n",
        "    image_size: Tuple[int, int] = (224, 224),\n",
        "    transform: torchvision.transforms = None,\n",
        "    device: torch.device = device,\n",
        "):\n",
        "    \"\"\"Predicts on a target image with a target model.\n",
        "\n",
        "    Args:\n",
        "        model (torch.nn.Module): A trained (or untrained) PyTorch model to predict on an image.\n",
        "        class_names (List[str]): A list of target classes to map predictions to.\n",
        "        image_path (str): Filepath to target image to predict on.\n",
        "        image_size (Tuple[int, int], optional): Size to transform target image to. Defaults to (224, 224).\n",
        "        transform (torchvision.transforms, optional): Transform to perform on image. Defaults to None which uses ImageNet normalization.\n",
        "        device (torch.device, optional): Target device to perform prediction on. Defaults to device.\n",
        "    \"\"\"\n",
        "\n",
        "    # Open image\n",
        "    img = Image.open(image_path)\n",
        "\n",
        "    # Create transformation for image (if one doesn't exist)\n",
        "    if transform is not None:\n",
        "        image_transform = transform\n",
        "    else:\n",
        "        image_transform = transforms.Compose(\n",
        "            [\n",
        "                transforms.Resize(image_size),\n",
        "                transforms.ToTensor(),\n",
        "                transforms.Normalize(\n",
        "                    mean=[0.485, 0.456, 0.406], std=[0.229, 0.224, 0.225]\n",
        "                ),\n",
        "            ]\n",
        "        )\n",
        "\n",
        "    ### Predict on image ###\n",
        "\n",
        "    # Make sure the model is on the target device\n",
        "    model.to(device)\n",
        "\n",
        "    # Turn on model evaluation mode and inference mode\n",
        "    model.eval()\n",
        "    with torch.inference_mode():\n",
        "        # Transform and add an extra dimension to image (model requires samples in [batch_size, color_channels, height, width])\n",
        "        transformed_image = image_transform(img).unsqueeze(dim=0)\n",
        "\n",
        "        # Make a prediction on image with an extra dimension and send it to the target device\n",
        "        target_image_pred = model(transformed_image.to(device))\n",
        "\n",
        "    # Convert logits -> prediction probabilities (using torch.softmax() for multi-class classification)\n",
        "    target_image_pred_probs = torch.softmax(target_image_pred, dim=1)\n",
        "\n",
        "    # Convert prediction probabilities -> prediction labels\n",
        "    target_image_pred_label = torch.argmax(target_image_pred_probs, dim=1)\n",
        "\n",
        "    # Plot image with predicted label and probability\n",
        "    plt.figure()\n",
        "    plt.imshow(img)\n",
        "    plt.title(\n",
        "        f\"Pred: {class_names[target_image_pred_label]} | Prob: {target_image_pred_probs.max():.3f}\"\n",
        "    )\n",
        "    plt.axis(False)"
      ],
      "metadata": {
        "id": "kHdiNhF9BHlU"
      },
      "execution_count": null,
      "outputs": []
    }
  ]
}