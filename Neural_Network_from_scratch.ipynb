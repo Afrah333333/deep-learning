{
  "nbformat": 4,
  "nbformat_minor": 0,
  "metadata": {
    "colab": {
      "provenance": [],
      "authorship_tag": "ABX9TyPAFX3/eBrttLkNhfDImSiv",
      "include_colab_link": true
    },
    "kernelspec": {
      "name": "python3",
      "display_name": "Python 3"
    },
    "language_info": {
      "name": "python"
    }
  },
  "cells": [
    {
      "cell_type": "markdown",
      "metadata": {
        "id": "view-in-github",
        "colab_type": "text"
      },
      "source": [
        "<a href=\"https://colab.research.google.com/github/Afrah333333/deep-learning/blob/main/Neural_Network_from_scratch.ipynb\" target=\"_parent\"><img src=\"https://colab.research.google.com/assets/colab-badge.svg\" alt=\"Open In Colab\"/></a>"
      ]
    },
    {
      "cell_type": "markdown",
      "source": [
        "Neual Networks"
      ],
      "metadata": {
        "id": "qH3iCDHvyChi"
      }
    },
    {
      "cell_type": "code",
      "execution_count": 46,
      "metadata": {
        "colab": {
          "base_uri": "https://localhost:8080/"
        },
        "id": "g2xvBDqMyAS_",
        "outputId": "ba5f060d-4688-4b6c-d9d5-657594678f52"
      },
      "outputs": [
        {
          "output_type": "stream",
          "name": "stdout",
          "text": [
            "Requirement already satisfied: torch in /usr/local/lib/python3.10/dist-packages (2.1.0+cu121)\n",
            "Requirement already satisfied: torchvision in /usr/local/lib/python3.10/dist-packages (0.16.0+cu121)\n",
            "Requirement already satisfied: filelock in /usr/local/lib/python3.10/dist-packages (from torch) (3.13.1)\n",
            "Requirement already satisfied: typing-extensions in /usr/local/lib/python3.10/dist-packages (from torch) (4.5.0)\n",
            "Requirement already satisfied: sympy in /usr/local/lib/python3.10/dist-packages (from torch) (1.12)\n",
            "Requirement already satisfied: networkx in /usr/local/lib/python3.10/dist-packages (from torch) (3.2.1)\n",
            "Requirement already satisfied: jinja2 in /usr/local/lib/python3.10/dist-packages (from torch) (3.1.2)\n",
            "Requirement already satisfied: fsspec in /usr/local/lib/python3.10/dist-packages (from torch) (2023.6.0)\n",
            "Requirement already satisfied: triton==2.1.0 in /usr/local/lib/python3.10/dist-packages (from torch) (2.1.0)\n",
            "Requirement already satisfied: numpy in /usr/local/lib/python3.10/dist-packages (from torchvision) (1.23.5)\n",
            "Requirement already satisfied: requests in /usr/local/lib/python3.10/dist-packages (from torchvision) (2.31.0)\n",
            "Requirement already satisfied: pillow!=8.3.*,>=5.3.0 in /usr/local/lib/python3.10/dist-packages (from torchvision) (9.4.0)\n",
            "Requirement already satisfied: MarkupSafe>=2.0 in /usr/local/lib/python3.10/dist-packages (from jinja2->torch) (2.1.3)\n",
            "Requirement already satisfied: charset-normalizer<4,>=2 in /usr/local/lib/python3.10/dist-packages (from requests->torchvision) (3.3.2)\n",
            "Requirement already satisfied: idna<4,>=2.5 in /usr/local/lib/python3.10/dist-packages (from requests->torchvision) (3.6)\n",
            "Requirement already satisfied: urllib3<3,>=1.21.1 in /usr/local/lib/python3.10/dist-packages (from requests->torchvision) (2.0.7)\n",
            "Requirement already satisfied: certifi>=2017.4.17 in /usr/local/lib/python3.10/dist-packages (from requests->torchvision) (2023.11.17)\n",
            "Requirement already satisfied: mpmath>=0.19 in /usr/local/lib/python3.10/dist-packages (from sympy->torch) (1.3.0)\n"
          ]
        }
      ],
      "source": [
        "!pip3 install torch torchvision"
      ]
    },
    {
      "cell_type": "code",
      "source": [
        "import torch\n",
        "import torch.nn as nn"
      ],
      "metadata": {
        "id": "LSfMvImI2QwN"
      },
      "execution_count": 47,
      "outputs": []
    },
    {
      "cell_type": "markdown",
      "source": [
        "In the data below, X represents temperature variations and the count of sunlit days in different cities, whereas y ice cream sales in each city. The variable xPredicted is a single input for which we want to predict the ice cream sale using the parameters learned by the neural network. Remember, the neural network wants to learn a mapping between X and y, so it will try to guess from what it has learned from the training data."
      ],
      "metadata": {
        "id": "wfAN_a8t9bjC"
      }
    },
    {
      "cell_type": "code",
      "source": [
        "import torch\n",
        "X = torch.tensor(([\n",
        "    [30, 8],  # Temperature and sunny days for City A\n",
        "    [25, 5],  # Temperature and sunny days for City B\n",
        "    [28, 6],  # Temperature and sunny days for City C\n",
        "    [32, 10]  # Temperature and sunny days for City D\n",
        "]),dtype=torch.float)\n",
        "\n",
        "y = torch.tensor(([200], [150], [180], [220]),dtype=torch.float)#ice cream sales for each city\n",
        "\n",
        "xPredicted = torch.tensor(([27, 7]), dtype=torch.float)"
      ],
      "metadata": {
        "id": "vfZwdlzW2XJX"
      },
      "execution_count": 48,
      "outputs": []
    },
    {
      "cell_type": "code",
      "source": [
        "print(X.shape)\n",
        "print(y.shape)"
      ],
      "metadata": {
        "colab": {
          "base_uri": "https://localhost:8080/"
        },
        "id": "r080j8QK9t1O",
        "outputId": "1bc7675a-c5fa-4d8e-b325-42ecc4ba6e62"
      },
      "execution_count": 49,
      "outputs": [
        {
          "output_type": "stream",
          "name": "stdout",
          "text": [
            "torch.Size([4, 2])\n",
            "torch.Size([4, 1])\n"
          ]
        }
      ]
    },
    {
      "cell_type": "code",
      "source": [
        "# scale units\n",
        "X_max, _ = torch.max(X, 0)\n",
        "xPredicted_max, _ = torch.max(xPredicted, 0)\n",
        "\n",
        "X = torch.div(X, X_max)\n",
        "xPredicted = torch.div(xPredicted, xPredicted_max)\n",
        "y = y / 100  # max test score is 100"
      ],
      "metadata": {
        "id": "lozTaV5Z_Uxj"
      },
      "execution_count": 42,
      "outputs": []
    },
    {
      "cell_type": "code",
      "source": [
        "#visualize,visualize,visualize\n",
        "import matplotlib.pyplot as plt\n",
        "\n",
        "plt.figure(figsize=(10, 6))\n",
        "\n",
        "plt.scatter(X[:, 0], y, label='Temperature', alpha=0.7)\n",
        "plt.scatter(X[:, 1], y, label='Sunny Days', alpha=0.7)\n",
        "\n",
        "plt.title('Ice Cream Sales Prediction Data')\n",
        "plt.xlabel('Temperature / Sunny Days')\n",
        "plt.ylabel('Ice Cream Sales')\n",
        "plt.legend()\n",
        "plt.show()"
      ],
      "metadata": {
        "colab": {
          "base_uri": "https://localhost:8080/",
          "height": 564
        },
        "id": "iVdDGhYRB9p2",
        "outputId": "bcea47f8-e09f-4044-f2be-359501533f1e"
      },
      "execution_count": 43,
      "outputs": [
        {
          "output_type": "display_data",
          "data": {
            "text/plain": [
              "<Figure size 1000x600 with 1 Axes>"
            ],
            "image/png": "[encoded data removed]"
          },
          "metadata": {}
        }
      ]
    },
    {
      "cell_type": "markdown",
      "source": [
        "Model Building"
      ],
      "metadata": {
        "id": "-UFvKo5DDtMO"
      }
    },
    {
      "cell_type": "code",
      "source": [
        "import torch.nn as nn\n",
        "import torch.optim as optim\n",
        "import torch.nn as nn\n",
        "import torch.optim as optim\n",
        "\n",
        "class Neural_Network(nn.Module):\n",
        "    def __init__(self, ):\n",
        "        super(Neural_Network, self).__init__()\n",
        "        # parameters\n",
        "        # TODO: parameters can be parameterized instead of declaring them here\n",
        "        self.inputSize = 2\n",
        "        self.outputSize = 1\n",
        "        self.hiddenSize = 4\n",
        "\n",
        "        # weights\n",
        "        self.W1 = nn.Parameter(torch.randn(self.inputSize, self.hiddenSize))\n",
        "        self.W2 = nn.Parameter(torch.randn(self.hiddenSize, self.outputSize))\n",
        "\n",
        "    def forward(self, X):\n",
        "        self.z = torch.matmul(X, self.W1)  # 3 X 3 \".dot\" does not broadcast in PyTorch\n",
        "        self.z2 = torch.relu(self.z)  # ReLU activation function\n",
        "        self.z3 = torch.matmul(self.z2, self.W2)\n",
        "        o = self.z3\n",
        "        return o\n",
        "\n",
        "    def backward(self, X, y, o, optimizer):\n",
        "        # calculate loss\n",
        "        loss = torch.mean((y - o)**2)\n",
        "\n",
        "        # backward pass\n",
        "        optimizer.zero_grad()\n",
        "        loss.backward()\n",
        "        optimizer.step()\n",
        "\n",
        "        return loss\n",
        "\n",
        "    def train(self, X, y, epochs=100, learning_rate=0.01):\n",
        "        optimizer = optim.SGD(self.parameters(), lr=learning_rate)\n",
        "\n",
        "        for epoch in range(epochs):\n",
        "            # forward pass\n",
        "            o = self.forward(X)\n",
        "\n",
        "            # backward pass\n",
        "            loss = self.backward(X, y, o, optimizer)\n",
        "\n",
        "            # Optionally, you can print the loss for each epoch if needed\n",
        "            print(f\"Epoch {epoch + 1}/{epochs}, Loss: {loss.item()}\")\n",
        "\n",
        "    def predict(self, X):\n",
        "        print(\"Predicted data based on trained weights: \")\n",
        "        print(\"Input (scaled): \\n\" + str(X))\n",
        "        print(\"Output: \\n\" + str(self.forward(X)))\n",
        "\n",
        "# Assuming you have X and y defined\n",
        "model = Neural_Network()\n",
        "model.train(X, y, epochs=100, learning_rate=0.01)\n",
        "\n"
      ],
      "metadata": {
        "colab": {
          "base_uri": "https://localhost:8080/"
        },
        "id": "pXMD6--O9vfC",
        "outputId": "cd996277-44d8-4cad-ff16-5880fdcdfa14"
      },
      "execution_count": 44,
      "outputs": [
        {
          "output_type": "stream",
          "name": "stdout",
          "text": [
            "Epoch 1/100, Loss: 4.693308353424072\n",
            "Epoch 2/100, Loss: 4.45364236831665\n",
            "Epoch 3/100, Loss: 4.234607219696045\n",
            "Epoch 4/100, Loss: 4.032637596130371\n",
            "Epoch 5/100, Loss: 3.8924179077148438\n",
            "Epoch 6/100, Loss: 3.7606236934661865\n",
            "Epoch 7/100, Loss: 3.6346423625946045\n",
            "Epoch 8/100, Loss: 3.5132079124450684\n",
            "Epoch 9/100, Loss: 3.395254611968994\n",
            "Epoch 10/100, Loss: 3.2798829078674316\n",
            "Epoch 11/100, Loss: 3.1663413047790527\n",
            "Epoch 12/100, Loss: 3.054007053375244\n",
            "Epoch 13/100, Loss: 2.942373275756836\n",
            "Epoch 14/100, Loss: 2.831040859222412\n",
            "Epoch 15/100, Loss: 2.7197093963623047\n",
            "Epoch 16/100, Loss: 2.608173370361328\n",
            "Epoch 17/100, Loss: 2.4963154792785645\n",
            "Epoch 18/100, Loss: 2.3841047286987305\n",
            "Epoch 19/100, Loss: 2.2715885639190674\n",
            "Epoch 20/100, Loss: 2.1588926315307617\n",
            "Epoch 21/100, Loss: 2.0462114810943604\n",
            "Epoch 22/100, Loss: 1.933804988861084\n",
            "Epoch 23/100, Loss: 1.8219892978668213\n",
            "Epoch 24/100, Loss: 1.7111279964447021\n",
            "Epoch 25/100, Loss: 1.60162353515625\n",
            "Epoch 26/100, Loss: 1.4939048290252686\n",
            "Epoch 27/100, Loss: 1.389128565788269\n",
            "Epoch 28/100, Loss: 1.2874431610107422\n",
            "Epoch 29/100, Loss: 1.1886606216430664\n",
            "Epoch 30/100, Loss: 1.0932085514068604\n",
            "Epoch 31/100, Loss: 1.001481056213379\n",
            "Epoch 32/100, Loss: 0.9138309359550476\n",
            "Epoch 33/100, Loss: 0.830560028553009\n",
            "Epoch 34/100, Loss: 0.7519118785858154\n",
            "Epoch 35/100, Loss: 0.6780672669410706\n",
            "Epoch 36/100, Loss: 0.6091421842575073\n",
            "Epoch 37/100, Loss: 0.5451874732971191\n",
            "Epoch 38/100, Loss: 0.4861910343170166\n",
            "Epoch 39/100, Loss: 0.4320821762084961\n",
            "Epoch 40/100, Loss: 0.38273659348487854\n",
            "Epoch 41/100, Loss: 0.3379842936992645\n",
            "Epoch 42/100, Loss: 0.29761606454849243\n",
            "Epoch 43/100, Loss: 0.26139289140701294\n",
            "Epoch 44/100, Loss: 0.22905310988426208\n",
            "Epoch 45/100, Loss: 0.2003205418586731\n",
            "Epoch 46/100, Loss: 0.1749114692211151\n",
            "Epoch 47/100, Loss: 0.1525413691997528\n",
            "Epoch 48/100, Loss: 0.13292992115020752\n",
            "Epoch 49/100, Loss: 0.11580589413642883\n",
            "Epoch 50/100, Loss: 0.10091038793325424\n",
            "Epoch 51/100, Loss: 0.087999626994133\n",
            "Epoch 52/100, Loss: 0.07684671133756638\n",
            "Epoch 53/100, Loss: 0.06724236160516739\n",
            "Epoch 54/100, Loss: 0.058995939791202545\n",
            "Epoch 55/100, Loss: 0.051934756338596344\n",
            "Epoch 56/100, Loss: 0.04590366408228874\n",
            "Epoch 57/100, Loss: 0.04076441004872322\n",
            "Epoch 58/100, Loss: 0.03639444336295128\n",
            "Epoch 59/100, Loss: 0.03268597275018692\n",
            "Epoch 60/100, Loss: 0.029544441029429436\n",
            "Epoch 61/100, Loss: 0.026887446641921997\n",
            "Epoch 62/100, Loss: 0.02464349754154682\n",
            "Epoch 63/100, Loss: 0.02275071106851101\n",
            "Epoch 64/100, Loss: 0.021155945956707\n",
            "Epoch 65/100, Loss: 0.019813448190689087\n",
            "Epoch 66/100, Loss: 0.01868418976664543\n",
            "Epoch 67/100, Loss: 0.017734818160533905\n",
            "Epoch 68/100, Loss: 0.016936946660280228\n",
            "Epoch 69/100, Loss: 0.016266511753201485\n",
            "Epoch 70/100, Loss: 0.015703128650784492\n",
            "Epoch 71/100, Loss: 0.015229541808366776\n",
            "Epoch 72/100, Loss: 0.014831187203526497\n",
            "Epoch 73/100, Loss: 0.014495844021439552\n",
            "Epoch 74/100, Loss: 0.014213195070624352\n",
            "Epoch 75/100, Loss: 0.013974572531878948\n",
            "Epoch 76/100, Loss: 0.013772694393992424\n",
            "Epoch 77/100, Loss: 0.013601494021713734\n",
            "Epoch 78/100, Loss: 0.01345590315759182\n",
            "Epoch 79/100, Loss: 0.013331606984138489\n",
            "Epoch 80/100, Loss: 0.013225095346570015\n",
            "Epoch 81/100, Loss: 0.01313336007297039\n",
            "Epoch 82/100, Loss: 0.013053948059678078\n",
            "Epoch 83/100, Loss: 0.01298475917428732\n",
            "Epoch 84/100, Loss: 0.01292408723384142\n",
            "Epoch 85/100, Loss: 0.012870516628026962\n",
            "Epoch 86/100, Loss: 0.012822819873690605\n",
            "Epoch 87/100, Loss: 0.0127800228074193\n",
            "Epoch 88/100, Loss: 0.01274132076650858\n",
            "Epoch 89/100, Loss: 0.012705979868769646\n",
            "Epoch 90/100, Loss: 0.012673471122980118\n",
            "Epoch 91/100, Loss: 0.012643280439078808\n",
            "Epoch 92/100, Loss: 0.012615039944648743\n",
            "Epoch 93/100, Loss: 0.012588419020175934\n",
            "Epoch 94/100, Loss: 0.012563155964016914\n",
            "Epoch 95/100, Loss: 0.012539001181721687\n",
            "Epoch 96/100, Loss: 0.012515810318291187\n",
            "Epoch 97/100, Loss: 0.012493381276726723\n",
            "Epoch 98/100, Loss: 0.012471593916416168\n",
            "Epoch 99/100, Loss: 0.012450368143618107\n",
            "Epoch 100/100, Loss: 0.012429585680365562\n"
          ]
        }
      ]
    },
    {
      "cell_type": "code",
      "source": [
        "xtest = torch.tensor(([27, 7]), dtype=torch.float)\n",
        "model.predict(xtest)"
      ],
      "metadata": {
        "colab": {
          "base_uri": "https://localhost:8080/"
        },
        "id": "M6Q7ld3wGgSG",
        "outputId": "92fc5aa4-064a-4294-d180-879b49a6c5a3"
      },
      "execution_count": 45,
      "outputs": [
        {
          "output_type": "stream",
          "name": "stdout",
          "text": [
            "Predicted data based on trained weights: \n",
            "Input (scaled): \n",
            "tensor([27.,  7.])\n",
            "Output: \n",
            "tensor([51.7794], grad_fn=<SqueezeBackward4>)\n"
          ]
        }
      ]
    }
  ]
}